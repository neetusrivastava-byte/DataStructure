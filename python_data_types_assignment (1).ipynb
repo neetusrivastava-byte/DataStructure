{
  "nbformat": 4,
  "nbformat_minor": 5,
  "metadata": {},
  "cells": [
    {
      "id": "ab9c099e",
      "cell_type": "markdown",
      "source": "# Python Data Types & Structures Assignment Solutions",
      "metadata": {}
    },
    {
      "id": "ab4603a4",
      "cell_type": "markdown",
      "source": "## Q1: What are the built-in data types in Python?\n\n**Answer:**\n- Numeric: int, float, complex\n- Sequence: list, tuple, range\n- Text: str\n- Set: set, frozenset\n- Mapping: dict\n- Boolean: bool\n- Binary: bytes, bytearray, memoryview",
      "metadata": {}
    },
    {
      "id": "c0811514",
      "cell_type": "markdown",
      "source": "## Q2: Differentiate between mutable and immutable data types with examples.\n\n**Answer:**\n- **Mutable:** Can be changed after creation. Examples: list, dict, set.\n- **Immutable:** Cannot be changed after creation. Examples: int, float, str, tuple.",
      "metadata": {}
    },
    {
      "id": "db182611",
      "cell_type": "markdown",
      "source": "## Q3: What is the difference between a list and a tuple?\n\n**Answer:**\n- List is mutable, Tuple is immutable.\n- Lists use square brackets `[]`, Tuples use parentheses `()`.\n- Lists are generally slower, Tuples are faster in access.",
      "metadata": {}
    },
    {
      "id": "f5e44552",
      "cell_type": "markdown",
      "source": "## Q4: What is the difference between a set and a dictionary?\n\n**Answer:**\n- Set is a collection of unique elements, written with `{}`.\n- Dictionary stores data in key\u2013value pairs, written with `{key: value}`.\n- Sets only store values, Dictionaries store both keys and values.",
      "metadata": {}
    },
    {
      "id": "550b7372",
      "cell_type": "markdown",
      "source": "## Q5: Write a program to create a tuple with different data types.",
      "metadata": {}
    },
    {
      "id": "239d00af",
      "cell_type": "code",
      "metadata": {},
      "execution_count": null,
      "source": "t = (1, \"hello\", 3.14, True)\nprint(t)",
      "outputs": []
    },
    {
      "id": "876497f1",
      "cell_type": "markdown",
      "source": "## Q6: Write a program to demonstrate tuple indexing and slicing.",
      "metadata": {}
    },
    {
      "id": "5c63f594",
      "cell_type": "code",
      "metadata": {},
      "execution_count": null,
      "source": "t = (10, 20, 30, 40, 50)\nprint(\"First element:\", t[0])\nprint(\"Last element:\", t[-1])\nprint(\"Slice (1 to 3):\", t[1:4])",
      "outputs": []
    },
    {
      "id": "fa5e3988",
      "cell_type": "markdown",
      "source": "## Q7: Write a program to add and remove elements from a set.",
      "metadata": {}
    },
    {
      "id": "6e108045",
      "cell_type": "code",
      "metadata": {},
      "execution_count": null,
      "source": "s = {1, 2, 3}\nprint(\"Original set:\", s)\ns.add(4)\nprint(\"After adding 4:\", s)\ns.remove(2)\nprint(\"After removing 2:\", s)",
      "outputs": []
    },
    {
      "id": "99b71990",
      "cell_type": "markdown",
      "source": "## Q8: Write a program to perform set operations (union, intersection, difference).",
      "metadata": {}
    },
    {
      "id": "c5a09c36",
      "cell_type": "code",
      "metadata": {},
      "execution_count": null,
      "source": "A = {1, 2, 3, 4}\nB = {3, 4, 5, 6}\nprint(\"Union:\", A | B)\nprint(\"Intersection:\", A & B)\nprint(\"Difference:\", A - B)",
      "outputs": []
    },
    {
      "id": "87acdfb1",
      "cell_type": "markdown",
      "source": "## Q9: Write a program to create a dictionary and access its values.",
      "metadata": {}
    },
    {
      "id": "7f50f8db",
      "cell_type": "code",
      "metadata": {},
      "execution_count": null,
      "source": "student = {\"name\": \"Alice\", \"age\": 20, \"grade\": \"A\"}\nprint(\"Student Name:\", student[\"name\"])\nprint(\"Student Age:\", student[\"age\"])",
      "outputs": []
    },
    {
      "id": "bf1421c7",
      "cell_type": "markdown",
      "source": "## Q10: Write a program to update and delete dictionary elements.",
      "metadata": {}
    },
    {
      "id": "bcbcd9fa",
      "cell_type": "code",
      "metadata": {},
      "execution_count": null,
      "source": "student = {\"name\": \"Bob\", \"age\": 21}\nprint(\"Original:\", student)\nstudent[\"age\"] = 22\nprint(\"Updated:\", student)\ndel student[\"name\"]\nprint(\"After deletion:\", student)",
      "outputs": []
    }
  ]
}